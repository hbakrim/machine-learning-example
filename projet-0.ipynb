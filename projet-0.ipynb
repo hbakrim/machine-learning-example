{
 "cells": [
  {
   "cell_type": "code",
   "execution_count": 2,
   "metadata": {
    "collapsed": true
   },
   "outputs": [],
   "source": [
    "# Import neededs libraries\n",
    "import pandas as pd\n",
    "import numpy as np\n",
    "import warnings\n",
    "from sklearn.metrics import roc_curve, precision_recall_curve, auc, make_scorer, recall_score, accuracy_score, precision_score, confusion_matrix, classification_report\n",
    "import matplotlib.pyplot as plt\n",
    "import seaborn as sns\n",
    "from sklearn.model_selection import train_test_split\n",
    "from collections import Counter\n",
    "from sklearn import preprocessing\n",
    "from sklearn.metrics import roc_curve, auc\n",
    "from sklearn.preprocessing import StandardScaler\n",
    "from sklearn.model_selection import GridSearchCV\n",
    "%matplotlib inline\n",
    "warnings.filterwarnings(\"ignore\")"
   ]
  },
  {
   "cell_type": "code",
   "execution_count": 3,
   "metadata": {
    "collapsed": true
   },
   "outputs": [],
   "source": [
    "# The first thing to do is to load the data file as data frame with pandas library\n",
    "dff = pd.read_csv(\"dataFile.csv\")\n",
    "\n",
    "# Show the first rows (5 by default) of the data set\n",
    "dff.head()\n",
    "\n",
    "# Set a copy of dataframe to avoid lodding data set more than one time\n",
    "df = dff"
   ]
  },
  {
   "cell_type": "markdown",
   "metadata": {},
   "source": [
    "## Exploring and cleaning the data"
   ]
  },
  {
   "cell_type": "code",
   "execution_count": 4,
   "metadata": {},
   "outputs": [
    {
     "name": "stdout",
     "output_type": "stream",
     "text": [
      "<class 'pandas.core.frame.DataFrame'>\n",
      "RangeIndex: 500000 entries, 0 to 499999\n",
      "Data columns (total 13 columns):\n",
      "ID                      500000 non-null int64\n",
      "credit_used             500000 non-null int64\n",
      "limit_allowed           500000 non-null int64\n",
      "credit_score            491910 non-null float64\n",
      "nb_days_account_open    499962 non-null float64\n",
      "interests               499135 non-null float64\n",
      "loyalty                 499135 non-null float64\n",
      "card_change             500000 non-null int64\n",
      "age                     493504 non-null float64\n",
      "nb_costumers            500000 non-null int64\n",
      "reward                  499971 non-null object\n",
      "card_name               500000 non-null object\n",
      "insurance               500000 non-null object\n",
      "dtypes: float64(5), int64(5), object(3)\n",
      "memory usage: 49.6+ MB\n"
     ]
    }
   ],
   "source": [
    "# To get information of each column\n",
    "df.info()"
   ]
  },
  {
   "cell_type": "code",
   "execution_count": 5,
   "metadata": {},
   "outputs": [
    {
     "data": {
      "text/html": [
       "<div>\n",
       "<style>\n",
       "    .dataframe thead tr:only-child th {\n",
       "        text-align: right;\n",
       "    }\n",
       "\n",
       "    .dataframe thead th {\n",
       "        text-align: left;\n",
       "    }\n",
       "\n",
       "    .dataframe tbody tr th {\n",
       "        vertical-align: top;\n",
       "    }\n",
       "</style>\n",
       "<table border=\"1\" class=\"dataframe\">\n",
       "  <thead>\n",
       "    <tr style=\"text-align: right;\">\n",
       "      <th></th>\n",
       "      <th>ID</th>\n",
       "      <th>credit_used</th>\n",
       "      <th>limit_allowed</th>\n",
       "      <th>credit_score</th>\n",
       "      <th>nb_days_account_open</th>\n",
       "      <th>interests</th>\n",
       "      <th>loyalty</th>\n",
       "      <th>card_change</th>\n",
       "      <th>age</th>\n",
       "      <th>nb_costumers</th>\n",
       "    </tr>\n",
       "  </thead>\n",
       "  <tbody>\n",
       "    <tr>\n",
       "      <th>count</th>\n",
       "      <td>500000.000000</td>\n",
       "      <td>500000.000000</td>\n",
       "      <td>500000.000000</td>\n",
       "      <td>491910.000000</td>\n",
       "      <td>499962.000000</td>\n",
       "      <td>499135.000000</td>\n",
       "      <td>4.991350e+05</td>\n",
       "      <td>500000.000000</td>\n",
       "      <td>493504.000000</td>\n",
       "      <td>500000.000000</td>\n",
       "    </tr>\n",
       "    <tr>\n",
       "      <th>mean</th>\n",
       "      <td>250000.500000</td>\n",
       "      <td>1870.360810</td>\n",
       "      <td>7532.450354</td>\n",
       "      <td>1523.960228</td>\n",
       "      <td>3972.884655</td>\n",
       "      <td>0.378791</td>\n",
       "      <td>9.239990e+03</td>\n",
       "      <td>0.435724</td>\n",
       "      <td>49.719790</td>\n",
       "      <td>1.111524</td>\n",
       "    </tr>\n",
       "    <tr>\n",
       "      <th>std</th>\n",
       "      <td>144337.711635</td>\n",
       "      <td>3354.169502</td>\n",
       "      <td>6408.509340</td>\n",
       "      <td>121.928750</td>\n",
       "      <td>3635.144968</td>\n",
       "      <td>0.879736</td>\n",
       "      <td>3.459390e+04</td>\n",
       "      <td>0.495852</td>\n",
       "      <td>17.314401</td>\n",
       "      <td>0.348348</td>\n",
       "    </tr>\n",
       "    <tr>\n",
       "      <th>min</th>\n",
       "      <td>1.000000</td>\n",
       "      <td>-184880.000000</td>\n",
       "      <td>0.000000</td>\n",
       "      <td>0.000000</td>\n",
       "      <td>25.000000</td>\n",
       "      <td>-0.017000</td>\n",
       "      <td>-6.519000e+04</td>\n",
       "      <td>0.000000</td>\n",
       "      <td>2.000000</td>\n",
       "      <td>0.000000</td>\n",
       "    </tr>\n",
       "    <tr>\n",
       "      <th>25%</th>\n",
       "      <td>125000.750000</td>\n",
       "      <td>10.000000</td>\n",
       "      <td>2750.000000</td>\n",
       "      <td>1458.000000</td>\n",
       "      <td>980.000000</td>\n",
       "      <td>0.000000</td>\n",
       "      <td>0.000000e+00</td>\n",
       "      <td>0.000000</td>\n",
       "      <td>36.000000</td>\n",
       "      <td>1.000000</td>\n",
       "    </tr>\n",
       "    <tr>\n",
       "      <th>50%</th>\n",
       "      <td>250000.500000</td>\n",
       "      <td>491.000000</td>\n",
       "      <td>6000.000000</td>\n",
       "      <td>1548.000000</td>\n",
       "      <td>2760.000000</td>\n",
       "      <td>0.000000</td>\n",
       "      <td>5.900000e+02</td>\n",
       "      <td>0.000000</td>\n",
       "      <td>51.000000</td>\n",
       "      <td>1.000000</td>\n",
       "    </tr>\n",
       "    <tr>\n",
       "      <th>75%</th>\n",
       "      <td>375000.250000</td>\n",
       "      <td>2185.000000</td>\n",
       "      <td>10750.000000</td>\n",
       "      <td>1610.000000</td>\n",
       "      <td>5993.000000</td>\n",
       "      <td>0.284000</td>\n",
       "      <td>3.668000e+03</td>\n",
       "      <td>1.000000</td>\n",
       "      <td>63.000000</td>\n",
       "      <td>1.000000</td>\n",
       "    </tr>\n",
       "    <tr>\n",
       "      <th>max</th>\n",
       "      <td>500000.000000</td>\n",
       "      <td>115166.000000</td>\n",
       "      <td>350000.000000</td>\n",
       "      <td>1776.000000</td>\n",
       "      <td>16196.000000</td>\n",
       "      <td>27.982000</td>\n",
       "      <td>3.245674e+06</td>\n",
       "      <td>1.000000</td>\n",
       "      <td>675.000000</td>\n",
       "      <td>6.000000</td>\n",
       "    </tr>\n",
       "  </tbody>\n",
       "</table>\n",
       "</div>"
      ],
      "text/plain": [
       "                  ID    credit_used  limit_allowed   credit_score  \\\n",
       "count  500000.000000  500000.000000  500000.000000  491910.000000   \n",
       "mean   250000.500000    1870.360810    7532.450354    1523.960228   \n",
       "std    144337.711635    3354.169502    6408.509340     121.928750   \n",
       "min         1.000000 -184880.000000       0.000000       0.000000   \n",
       "25%    125000.750000      10.000000    2750.000000    1458.000000   \n",
       "50%    250000.500000     491.000000    6000.000000    1548.000000   \n",
       "75%    375000.250000    2185.000000   10750.000000    1610.000000   \n",
       "max    500000.000000  115166.000000  350000.000000    1776.000000   \n",
       "\n",
       "       nb_days_account_open      interests       loyalty    card_change  \\\n",
       "count         499962.000000  499135.000000  4.991350e+05  500000.000000   \n",
       "mean            3972.884655       0.378791  9.239990e+03       0.435724   \n",
       "std             3635.144968       0.879736  3.459390e+04       0.495852   \n",
       "min               25.000000      -0.017000 -6.519000e+04       0.000000   \n",
       "25%              980.000000       0.000000  0.000000e+00       0.000000   \n",
       "50%             2760.000000       0.000000  5.900000e+02       0.000000   \n",
       "75%             5993.000000       0.284000  3.668000e+03       1.000000   \n",
       "max            16196.000000      27.982000  3.245674e+06       1.000000   \n",
       "\n",
       "                 age   nb_costumers  \n",
       "count  493504.000000  500000.000000  \n",
       "mean       49.719790       1.111524  \n",
       "std        17.314401       0.348348  \n",
       "min         2.000000       0.000000  \n",
       "25%        36.000000       1.000000  \n",
       "50%        51.000000       1.000000  \n",
       "75%        63.000000       1.000000  \n",
       "max       675.000000       6.000000  "
      ]
     },
     "execution_count": 5,
     "metadata": {},
     "output_type": "execute_result"
    }
   ],
   "source": [
    "# Description of the non-categorial feautures\n",
    "df.describe()"
   ]
  },
  {
   "cell_type": "code",
   "execution_count": 6,
   "metadata": {},
   "outputs": [
    {
     "name": "stdout",
     "output_type": "stream",
     "text": [
      "ID                      False\n",
      "credit_used             False\n",
      "limit_allowed           False\n",
      "credit_score             True\n",
      "nb_days_account_open     True\n",
      "interests                True\n",
      "loyalty                  True\n",
      "card_change             False\n",
      "age                      True\n",
      "nb_costumers            False\n",
      "reward                   True\n",
      "card_name               False\n",
      "insurance               False\n",
      "dtype: bool\n"
     ]
    }
   ],
   "source": [
    "# Check if there are missing values. 'True' means that the column has missing values.\n",
    "print(df.isnull().any())"
   ]
  },
  {
   "cell_type": "markdown",
   "metadata": {},
   "source": [
    "## Generating usable features"
   ]
  },
  {
   "cell_type": "code",
   "execution_count": 7,
   "metadata": {},
   "outputs": [
    {
     "name": "stdout",
     "output_type": "stream",
     "text": [
      "97.0912 %\n"
     ]
    }
   ],
   "source": [
    "# To eastimate the length of data without missing values, we should make conditions on features:\n",
    "cond1 = df.credit_score.notnull()\n",
    "cond2 = df.nb_days_account_open.notnull()\n",
    "cond3 = df.interests.notnull()\n",
    "cond4 = df.loyalty.notnull()\n",
    "cond5 = df.age.notnull()\n",
    "cond6 = df.card_change.notnull()\n",
    "cond7 = df.reward.notnull()\n",
    "\n",
    "# 'distinct_names' is the number of costumers for each account. It should > 0\n",
    "cond8 = df.nb_costumers > 0\n",
    "\n",
    "# 'credit_limit' is limite of credit allowed to each costumer. It should > 0\n",
    "cond9 = df.limit_allowed > 0\n",
    "\n",
    "# We see that the maximum of 'age' is 675. We'll considere only values less than 100.\n",
    "cond10 = df.age <= 100\n",
    "\n",
    "# Show the part of data with completed columns\n",
    "print(100 * len(df[cond1 & cond2 & cond3 & cond4 & cond5 & cond6 & cond7 & cond8 & cond9 & cond10]) /len(df), '%')"
   ]
  },
  {
   "cell_type": "code",
   "execution_count": 8,
   "metadata": {},
   "outputs": [
    {
     "name": "stdout",
     "output_type": "stream",
     "text": [
      "credit_used             False\n",
      "limit_allowed           False\n",
      "credit_score            False\n",
      "nb_days_account_open    False\n",
      "interests               False\n",
      "loyalty                 False\n",
      "card_change             False\n",
      "age                     False\n",
      "nb_costumers            False\n",
      "reward                  False\n",
      "card_name               False\n",
      "insurance               False\n",
      "dtype: bool\n"
     ]
    }
   ],
   "source": [
    "# The missing values part of data set is less than 3%. So let's discard it and create dataframe without missing values\n",
    "\n",
    "df = df[cond1 & cond2 & cond3 & cond4 & cond5 & cond6 & cond7 & cond8 & cond9 & cond10]\n",
    "# drop ID column\n",
    "df = df.drop(['ID'], axis=1)\n",
    "print(df.isnull().any())"
   ]
  },
  {
   "cell_type": "code",
   "execution_count": 9,
   "metadata": {},
   "outputs": [
    {
     "data": {
      "text/html": [
       "<div>\n",
       "<style>\n",
       "    .dataframe thead tr:only-child th {\n",
       "        text-align: right;\n",
       "    }\n",
       "\n",
       "    .dataframe thead th {\n",
       "        text-align: left;\n",
       "    }\n",
       "\n",
       "    .dataframe tbody tr th {\n",
       "        vertical-align: top;\n",
       "    }\n",
       "</style>\n",
       "<table border=\"1\" class=\"dataframe\">\n",
       "  <thead>\n",
       "    <tr style=\"text-align: right;\">\n",
       "      <th></th>\n",
       "      <th>credit_used</th>\n",
       "      <th>limit_allowed</th>\n",
       "      <th>credit_score</th>\n",
       "      <th>nb_days_account_open</th>\n",
       "      <th>interests</th>\n",
       "      <th>loyalty</th>\n",
       "      <th>card_change</th>\n",
       "      <th>age</th>\n",
       "      <th>nb_costumers</th>\n",
       "      <th>reward</th>\n",
       "      <th>card_name</th>\n",
       "      <th>insurance</th>\n",
       "    </tr>\n",
       "  </thead>\n",
       "  <tbody>\n",
       "    <tr>\n",
       "      <th>0</th>\n",
       "      <td>0</td>\n",
       "      <td>10000</td>\n",
       "      <td>1442.0</td>\n",
       "      <td>435.0</td>\n",
       "      <td>0.000</td>\n",
       "      <td>0.0</td>\n",
       "      <td>0</td>\n",
       "      <td>46.0</td>\n",
       "      <td>1</td>\n",
       "      <td>X</td>\n",
       "      <td>Primum</td>\n",
       "      <td>1</td>\n",
       "    </tr>\n",
       "    <tr>\n",
       "      <th>1</th>\n",
       "      <td>4689</td>\n",
       "      <td>15000</td>\n",
       "      <td>1478.0</td>\n",
       "      <td>3953.0</td>\n",
       "      <td>0.000</td>\n",
       "      <td>32254.0</td>\n",
       "      <td>1</td>\n",
       "      <td>36.0</td>\n",
       "      <td>2</td>\n",
       "      <td>M2</td>\n",
       "      <td>Liberety</td>\n",
       "      <td>0</td>\n",
       "    </tr>\n",
       "    <tr>\n",
       "      <th>2</th>\n",
       "      <td>2532</td>\n",
       "      <td>7000</td>\n",
       "      <td>1540.0</td>\n",
       "      <td>4616.0</td>\n",
       "      <td>1.001</td>\n",
       "      <td>2479.0</td>\n",
       "      <td>1</td>\n",
       "      <td>48.0</td>\n",
       "      <td>1</td>\n",
       "      <td>M2</td>\n",
       "      <td>Golde one</td>\n",
       "      <td>1</td>\n",
       "    </tr>\n",
       "    <tr>\n",
       "      <th>3</th>\n",
       "      <td>170</td>\n",
       "      <td>12000</td>\n",
       "      <td>1582.0</td>\n",
       "      <td>2263.0</td>\n",
       "      <td>0.000</td>\n",
       "      <td>0.0</td>\n",
       "      <td>0</td>\n",
       "      <td>57.0</td>\n",
       "      <td>2</td>\n",
       "      <td>Z</td>\n",
       "      <td>Force task</td>\n",
       "      <td>1</td>\n",
       "    </tr>\n",
       "    <tr>\n",
       "      <th>4</th>\n",
       "      <td>378</td>\n",
       "      <td>22000</td>\n",
       "      <td>1350.0</td>\n",
       "      <td>5837.0</td>\n",
       "      <td>0.000</td>\n",
       "      <td>9721.0</td>\n",
       "      <td>0</td>\n",
       "      <td>53.0</td>\n",
       "      <td>1</td>\n",
       "      <td>M2</td>\n",
       "      <td>Health</td>\n",
       "      <td>0</td>\n",
       "    </tr>\n",
       "  </tbody>\n",
       "</table>\n",
       "</div>"
      ],
      "text/plain": [
       "   credit_used  limit_allowed  credit_score  nb_days_account_open  interests  \\\n",
       "0            0          10000        1442.0                 435.0      0.000   \n",
       "1         4689          15000        1478.0                3953.0      0.000   \n",
       "2         2532           7000        1540.0                4616.0      1.001   \n",
       "3          170          12000        1582.0                2263.0      0.000   \n",
       "4          378          22000        1350.0                5837.0      0.000   \n",
       "\n",
       "   loyalty  card_change   age  nb_costumers reward   card_name  insurance  \n",
       "0      0.0            0  46.0             1      X      Primum          1  \n",
       "1  32254.0            1  36.0             2     M2    Liberety          0  \n",
       "2   2479.0            1  48.0             1     M2   Golde one          1  \n",
       "3      0.0            0  57.0             2      Z  Force task          1  \n",
       "4   9721.0            0  53.0             1     M2      Health          0  "
      ]
     },
     "execution_count": 9,
     "metadata": {},
     "output_type": "execute_result"
    }
   ],
   "source": [
    "# The last column is the target. In order to classifier the data set with customers who has insurance \n",
    "# and those who hasen't, we should do the following mapping:\n",
    "# 'No' ---> 0\n",
    "# 'Classic' and 'Privilege Plus' ----> 1\n",
    "\n",
    "mapping = {'No': 0, 'Classic': 1, 'Privilege Plus': 1}\n",
    "df = df.replace({'insurance': mapping})\n",
    "\n",
    "df.head()"
   ]
  },
  {
   "cell_type": "markdown",
   "metadata": {},
   "source": [
    "# Visualisation"
   ]
  },
  {
   "cell_type": "code",
   "execution_count": 10,
   "metadata": {},
   "outputs": [
    {
     "data": {
      "image/png": "[encoded data removed]",
      "text/plain": [
       "<matplotlib.figure.Figure at 0x1d31efd2b70>"
      ]
     },
     "metadata": {},
     "output_type": "display_data"
    },
    {
     "data": {
      "image/png": "[encoded data removed]",
      "text/plain": [
       "<matplotlib.figure.Figure at 0x1d31e990978>"
      ]
     },
     "metadata": {},
     "output_type": "display_data"
    }
   ],
   "source": [
    "# Show the distribution of the insurance plan according to the type of card\n",
    "df_Visual=df[['card_name','insurance']].groupby(['card_name']).mean()\n",
    "df_Visual=df_Visual.sort_values('insurance',ascending=False)\n",
    "\n",
    "df_Visual.plot(kind='bar', figsize=(15, 4)).set_title('% of insurance plan for each card type ')\n",
    "plt.show()\n",
    "\n",
    "# Show the distribution of the number of the days between the account open date and today \n",
    "# according to the type of card\n",
    "df_Visual0=df[['card_name','nb_days_account_open']].groupby(['card_name']).mean()\n",
    "df_Visual0=df_Visual0.sort_values('nb_days_account_open',ascending=False)\n",
    "\n",
    "\n",
    "df_Visual0.plot(kind='bar', figsize=(15, 4)).set_title('mean of nunber of days between the account open date and today ')\n",
    "plt.show()"
   ]
  },
  {
   "cell_type": "code",
   "execution_count": 11,
   "metadata": {},
   "outputs": [
    {
     "data": {
      "image/png": "[encoded data removed]",
      "text/plain": [
       "<matplotlib.figure.Figure at 0x1d31efdb400>"
      ]
     },
     "metadata": {},
     "output_type": "display_data"
    }
   ],
   "source": [
    "# Show the distribution of each non-categorial feature\n",
    "temp_df = df[['credit_used', 'limit_allowed', 'credit_score', 'nb_days_account_open', 'interests', 'loyalty', 'age', 'nb_costumers']]\n",
    "temp_df.hist(bins=50, color='b',figsize=(12,8), alpha=0.5)\n",
    "plt.show()"
   ]
  },
  {
   "cell_type": "code",
   "execution_count": 12,
   "metadata": {},
   "outputs": [
    {
     "data": {
      "text/plain": [
       "<matplotlib.axes._subplots.AxesSubplot at 0x1d320773a58>"
      ]
     },
     "execution_count": 12,
     "metadata": {},
     "output_type": "execute_result"
    },
    {
     "data": {
      "image/png": "[encoded data removed]",
      "text/plain": [
       "<matplotlib.figure.Figure at 0x1d3207876d8>"
      ]
     },
     "metadata": {},
     "output_type": "display_data"
    }
   ],
   "source": [
    "# Find correlations between non-categorial features ( from column 'credit_used' to column 'nb_costumers')\n",
    "temp_df=df.iloc[:,:-3]\n",
    "corr=temp_df.corr()\n",
    "plt.figure(figsize=(10,8))\n",
    "sns.heatmap(corr,\n",
    "            xticklabels=corr.columns.values,\n",
    "            yticklabels=corr.columns.values, annot=True)"
   ]
  },
  {
   "cell_type": "markdown",
   "metadata": {},
   "source": [
    "\n",
    "We see first the importante coorelation between:\n",
    "\n",
    "- 'credit_used' and ('interests'(0.83), 'limit_allowed' (0.44), 'credit_score' (-0.29))\n",
    "- 'limit_allowed' and ('loyalty' (0.38), 'nb_costumers' (0.28), 'interests' (0.24))\n",
    "- 'credit_score' and ('interests' (-0.37), 'card_change' (0.33), 'nb_days_account_open' (0.32))\n",
    "- 'nb_days_account_open' and ('age' (0.64), 'card_change' (0.35)).\n",
    "\n",
    "So we can choose three features from this columns as:\n",
    "- feature1 = 'credit_used' / 'limit_allowed'\n",
    "- feature2 = 'credit_score'\n",
    "- feature3 = 'age'\n",
    "\n",
    "The label still 'insurance'\n",
    "- label = 'insurance'"
   ]
  },
  {
   "cell_type": "markdown",
   "metadata": {},
   "source": [
    "## Models, train set and test set\n",
    "\n",
    "The naive way to handel this data is to reduce the number of featutres and to apply differentes models.first, we'll use only three."
   ]
  },
  {
   "cell_type": "code",
   "execution_count": 13,
   "metadata": {},
   "outputs": [
    {
     "data": {
      "text/html": [
       "<div>\n",
       "<style>\n",
       "    .dataframe thead tr:only-child th {\n",
       "        text-align: right;\n",
       "    }\n",
       "\n",
       "    .dataframe thead th {\n",
       "        text-align: left;\n",
       "    }\n",
       "\n",
       "    .dataframe tbody tr th {\n",
       "        vertical-align: top;\n",
       "    }\n",
       "</style>\n",
       "<table border=\"1\" class=\"dataframe\">\n",
       "  <thead>\n",
       "    <tr style=\"text-align: right;\">\n",
       "      <th></th>\n",
       "      <th>feature1</th>\n",
       "      <th>feature2</th>\n",
       "      <th>feature3</th>\n",
       "      <th>insurance</th>\n",
       "    </tr>\n",
       "  </thead>\n",
       "  <tbody>\n",
       "    <tr>\n",
       "      <th>0</th>\n",
       "      <td>0.000000</td>\n",
       "      <td>1442.0</td>\n",
       "      <td>46.0</td>\n",
       "      <td>1</td>\n",
       "    </tr>\n",
       "    <tr>\n",
       "      <th>1</th>\n",
       "      <td>0.312600</td>\n",
       "      <td>1478.0</td>\n",
       "      <td>36.0</td>\n",
       "      <td>0</td>\n",
       "    </tr>\n",
       "    <tr>\n",
       "      <th>2</th>\n",
       "      <td>0.361714</td>\n",
       "      <td>1540.0</td>\n",
       "      <td>48.0</td>\n",
       "      <td>1</td>\n",
       "    </tr>\n",
       "    <tr>\n",
       "      <th>3</th>\n",
       "      <td>0.014167</td>\n",
       "      <td>1582.0</td>\n",
       "      <td>57.0</td>\n",
       "      <td>1</td>\n",
       "    </tr>\n",
       "    <tr>\n",
       "      <th>4</th>\n",
       "      <td>0.017182</td>\n",
       "      <td>1350.0</td>\n",
       "      <td>53.0</td>\n",
       "      <td>0</td>\n",
       "    </tr>\n",
       "  </tbody>\n",
       "</table>\n",
       "</div>"
      ],
      "text/plain": [
       "   feature1  feature2  feature3  insurance\n",
       "0  0.000000    1442.0      46.0          1\n",
       "1  0.312600    1478.0      36.0          0\n",
       "2  0.361714    1540.0      48.0          1\n",
       "3  0.014167    1582.0      57.0          1\n",
       "4  0.017182    1350.0      53.0          0"
      ]
     },
     "execution_count": 13,
     "metadata": {},
     "output_type": "execute_result"
    }
   ],
   "source": [
    "# lets create a new data frame with less numbers of features (non-correlated) and label:\n",
    "df1 = pd.DataFrame()\n",
    "df1['feature1'] = df['credit_used'] / df['limit_allowed'] \n",
    "df1['feature2'] = df['credit_score']\n",
    "df1['feature3'] = df['age']\n",
    "\n",
    "df1['insurance'] = df['insurance']\n",
    "df1.head()"
   ]
  },
  {
   "cell_type": "code",
   "execution_count": 14,
   "metadata": {
    "collapsed": true
   },
   "outputs": [],
   "source": [
    "col = ['feature1', 'feature2', 'feature3']\n",
    "\n",
    "ya = np.array(df1['insurance'])\n",
    "xa = preprocessing.normalize(df1[col])\n",
    "\n",
    "\n",
    "x_train, x_test, y_train, y_test = train_test_split(xa, ya, test_size=0.33, random_state=42)"
   ]
  },
  {
   "cell_type": "markdown",
   "metadata": {
    "collapsed": true
   },
   "source": [
    "We should check the precision for every model.\n",
    "The tools for that are : confusion matrix and accuracy of the model, precision, recall and F1-score for each class.\n",
    "\n",
    "\n",
    " <table style=\"width:30%\">\n",
    "  <tr>\n",
    "    <th></th>\n",
    "    <th>Predicted class</th>\n",
    "    <th></th>\n",
    "  </tr>\n",
    "  <tr>\n",
    "    <td>True class</td>\n",
    "    <td></td>\n",
    "    <td></td>\n",
    "  </tr>\n",
    "  <tr>\n",
    "    <td></td>\n",
    "    <td>0</td>\n",
    "    <td>1</td>\n",
    "  </tr>\n",
    "  <tr>\n",
    "    <td>0</td>\n",
    "    <td>TP</td>\n",
    "    <td>FN</td>\n",
    "  </tr>\n",
    "  <tr>\n",
    "    <td>1</td>\n",
    "    <td>FP</td>\n",
    "    <td>TN</td>\n",
    "  </tr>\n",
    "</table> \n",
    "     \n",
    "     \n",
    "Class 0:\n",
    "- $recall_0    = \\frac{TP}{TP + FN}$\n",
    "- $precision_0 = \\frac{TP}{TP + FP}$\n",
    "- $F1_0        = \\frac{2}{ \\frac{1}{recall_0} + \\frac{1}{precision_0} }$\n",
    "                 \n",
    "Class 1:\n",
    "- $recall_1    = \\frac{TN}{TN + FP}$\n",
    "- $precision_1 = \\frac{TN}{TN + FN}$\n",
    "- $F1_1        = \\frac{2}{ \\frac{1}{recall_1} + \\frac{1}{precision_1} }$\n",
    "                  \n",
    "$accuracy = \\frac{TP + TN}{TP + FP + TN + FN}$\n",
    "                 \n",
    "The recall measures the ability of a test to find all the relevant cases within a dataset for each class.\n",
    "The precision measures the probability that each prediction is correcte. It expresses the proportion of the data points our model says was relevant actually were relevant.\n",
    "This two parameters should be great enough to describe a good model. This is done by the function f1-score.\n",
    "\n",
    "For unbalanced data, F1 of each class becomes as important as the accuracy. \n",
    "\n",
    "For this data set, we shoose many models. To compare them, we'll use confusion-matrix:"
   ]
  },
  {
   "cell_type": "markdown",
   "metadata": {},
   "source": [
    "Here, we use a prototype model to get accuracy score for both tain and test data set. The classification report provides values of precision, recall and f1-score for each class."
   ]
  },
  {
   "cell_type": "code",
   "execution_count": 15,
   "metadata": {
    "collapsed": true
   },
   "outputs": [],
   "source": [
    "def model(clf, name, x_train, y_train, x_test, y_test):\n",
    "    \n",
    "    clf.fit(x_train, y_train)\n",
    "    \n",
    "    print('=========================================================')\n",
    "    \n",
    "    # test prediction\n",
    "    y_pred_test = clf.predict(x_test)    \n",
    "        \n",
    "    print(\"Classifier name : \", name)\n",
    "    \n",
    "    # test accuracy\n",
    "    accuracy_test = accuracy_score(y_test, y_pred_test)\n",
    "    print(\"Test accuracy = \", accuracy_test)\n",
    "    \n",
    "    \n",
    "    print(\"Confusion Matrix\")\n",
    "    print('**************************')\n",
    "    print('--------------------------')\n",
    "    print(pd.DataFrame(confusion_matrix(y_test, y_pred_test), columns=['pred_0', 'pred_1'], index=['0', '1']))\n",
    "    print('--------------------------')\n",
    "    \n",
    "    \n",
    "    print(\"Test classification report\")\n",
    "    print('**************************')\n",
    "    print(classification_report(y_test, y_pred_test))\n",
    "    \n",
    "    print('=========================================================')\n",
    "    \n",
    "        \n",
    "    \n",
    "    print()\n",
    "    print()"
   ]
  },
  {
   "cell_type": "code",
   "execution_count": 16,
   "metadata": {
    "scrolled": false
   },
   "outputs": [
    {
     "name": "stdout",
     "output_type": "stream",
     "text": [
      "=========================================================\n",
      "Classifier name :  Logistic\n",
      "Test accuracy =  0.805850150748\n",
      "Confusion Matrix\n",
      "**************************\n",
      "--------------------------\n",
      "   pred_0  pred_1\n",
      "0  129095      10\n",
      "1   31093       3\n",
      "--------------------------\n",
      "Test classification report\n",
      "**************************\n",
      "             precision    recall  f1-score   support\n",
      "\n",
      "          0       0.81      1.00      0.89    129105\n",
      "          1       0.23      0.00      0.00     31096\n",
      "\n",
      "avg / total       0.69      0.81      0.72    160201\n",
      "\n",
      "=========================================================\n",
      "\n",
      "\n",
      "=========================================================\n",
      "Classifier name :  Naive Bayes\n",
      "Test accuracy =  0.80580645564\n",
      "Confusion Matrix\n",
      "**************************\n",
      "--------------------------\n",
      "   pred_0  pred_1\n",
      "0  129088      17\n",
      "1   31093       3\n",
      "--------------------------\n",
      "Test classification report\n",
      "**************************\n",
      "             precision    recall  f1-score   support\n",
      "\n",
      "          0       0.81      1.00      0.89    129105\n",
      "          1       0.15      0.00      0.00     31096\n",
      "\n",
      "avg / total       0.68      0.81      0.72    160201\n",
      "\n",
      "=========================================================\n",
      "\n",
      "\n",
      "=========================================================\n",
      "Classifier name :  SVC\n",
      "Test accuracy =  0.805887603698\n",
      "Confusion Matrix\n",
      "**************************\n",
      "--------------------------\n",
      "   pred_0  pred_1\n",
      "0  129102       3\n",
      "1   31094       2\n",
      "--------------------------\n",
      "Test classification report\n",
      "**************************\n",
      "             precision    recall  f1-score   support\n",
      "\n",
      "          0       0.81      1.00      0.89    129105\n",
      "          1       0.40      0.00      0.00     31096\n",
      "\n",
      "avg / total       0.73      0.81      0.72    160201\n",
      "\n",
      "=========================================================\n",
      "\n",
      "\n",
      "=========================================================\n",
      "Classifier name :  Random Forest\n",
      "Test accuracy =  0.778222358163\n",
      "Confusion Matrix\n",
      "**************************\n",
      "--------------------------\n",
      "   pred_0  pred_1\n",
      "0  122134    6971\n",
      "1   28558    2538\n",
      "--------------------------\n",
      "Test classification report\n",
      "**************************\n",
      "             precision    recall  f1-score   support\n",
      "\n",
      "          0       0.81      0.95      0.87    129105\n",
      "          1       0.27      0.08      0.13     31096\n",
      "\n",
      "avg / total       0.70      0.78      0.73    160201\n",
      "\n",
      "=========================================================\n",
      "\n",
      "\n",
      "=========================================================\n",
      "Classifier name :  knn\n",
      "Test accuracy =  0.75222376889\n",
      "Confusion Matrix\n",
      "**************************\n",
      "--------------------------\n",
      "   pred_0  pred_1\n",
      "0  116639   12466\n",
      "1   27228    3868\n",
      "--------------------------\n",
      "Test classification report\n",
      "**************************\n",
      "             precision    recall  f1-score   support\n",
      "\n",
      "          0       0.81      0.90      0.85    129105\n",
      "          1       0.24      0.12      0.16     31096\n",
      "\n",
      "avg / total       0.70      0.75      0.72    160201\n",
      "\n",
      "=========================================================\n",
      "\n",
      "\n",
      "=========================================================\n",
      "Classifier name :  LDA\n",
      "Test accuracy =  0.80588136154\n",
      "Confusion Matrix\n",
      "**************************\n",
      "--------------------------\n",
      "   pred_0  pred_1\n",
      "0  129101       4\n",
      "1   31094       2\n",
      "--------------------------\n",
      "Test classification report\n",
      "**************************\n",
      "             precision    recall  f1-score   support\n",
      "\n",
      "          0       0.81      1.00      0.89    129105\n",
      "          1       0.33      0.00      0.00     31096\n",
      "\n",
      "avg / total       0.71      0.81      0.72    160201\n",
      "\n",
      "=========================================================\n",
      "\n",
      "\n",
      "=========================================================\n",
      "Classifier name :  MLPClassifier\n",
      "Test accuracy =  0.805893845856\n",
      "Confusion Matrix\n",
      "**************************\n",
      "--------------------------\n",
      "   pred_0  pred_1\n",
      "0  129105       0\n",
      "1   31096       0\n",
      "--------------------------\n",
      "Test classification report\n",
      "**************************\n",
      "             precision    recall  f1-score   support\n",
      "\n",
      "          0       0.81      1.00      0.89    129105\n",
      "          1       0.00      0.00      0.00     31096\n",
      "\n",
      "avg / total       0.65      0.81      0.72    160201\n",
      "\n",
      "=========================================================\n",
      "\n",
      "\n",
      "=========================================================\n",
      "Classifier name :  AdaBoost\n",
      "Test accuracy =  0.805906330173\n",
      "Confusion Matrix\n",
      "**************************\n",
      "--------------------------\n",
      "   pred_0  pred_1\n",
      "0  129069      36\n",
      "1   31058      38\n",
      "--------------------------\n",
      "Test classification report\n",
      "**************************\n",
      "             precision    recall  f1-score   support\n",
      "\n",
      "          0       0.81      1.00      0.89    129105\n",
      "          1       0.51      0.00      0.00     31096\n",
      "\n",
      "avg / total       0.75      0.81      0.72    160201\n",
      "\n",
      "=========================================================\n",
      "\n",
      "\n",
      "=========================================================\n",
      "Classifier name :  QDA\n",
      "Test accuracy =  0.805850150748\n",
      "Confusion Matrix\n",
      "**************************\n",
      "--------------------------\n",
      "   pred_0  pred_1\n",
      "0  129095      10\n",
      "1   31093       3\n",
      "--------------------------\n",
      "Test classification report\n",
      "**************************\n",
      "             precision    recall  f1-score   support\n",
      "\n",
      "          0       0.81      1.00      0.89    129105\n",
      "          1       0.23      0.00      0.00     31096\n",
      "\n",
      "avg / total       0.69      0.81      0.72    160201\n",
      "\n",
      "=========================================================\n",
      "\n",
      "\n"
     ]
    }
   ],
   "source": [
    "# Note: \n",
    "# We'll use several models to compare there performances\n",
    "# and take hyper-parameters by default for simplicity.\n",
    "\n",
    "from sklearn.linear_model import LogisticRegression\n",
    "from sklearn.naive_bayes import GaussianNB\n",
    "from sklearn.svm import LinearSVC\n",
    "from sklearn.ensemble import RandomForestClassifier, AdaBoostClassifier\n",
    "from sklearn.neighbors import KNeighborsClassifier\n",
    "from sklearn.discriminant_analysis import LinearDiscriminantAnalysis\n",
    "from sklearn.neural_network import MLPClassifier\n",
    "from sklearn.discriminant_analysis import QuadraticDiscriminantAnalysis\n",
    "\n",
    "\n",
    "def check_models(x_train, y_train, x_test, y_test):\n",
    "    for clf, name in [(LogisticRegression(), 'Logistic'),\n",
    "                      (GaussianNB(), 'Naive Bayes'),\n",
    "                      (LinearSVC(C=1.0), 'SVC'),\n",
    "                      (RandomForestClassifier(n_estimators=100), 'Random Forest'), \n",
    "                      (KNeighborsClassifier(3), 'knn'), \n",
    "                      (LinearDiscriminantAnalysis(), 'LDA'), \n",
    "                      (MLPClassifier(alpha=1), 'MLPClassifier'), \n",
    "                      (AdaBoostClassifier(), 'AdaBoost'), \n",
    "                      (QuadraticDiscriminantAnalysis(), 'QDA')]:\n",
    "\n",
    "    \n",
    "        model(clf, name, x_train, y_train, x_test, y_test)\n",
    "        \n",
    "        \n",
    "        \n",
    "check_models(x_train, y_train, x_test, y_test)"
   ]
  },
  {
   "cell_type": "markdown",
   "metadata": {
    "collapsed": true
   },
   "source": [
    "We see that except 'knn' and 'Random Forest', all classifiers give accuracy close to 0.8 and the F1-score for minority class '1' is almost zero. That means that models can't give us an acceptable prediction of class '1'. The result of accuracy is more influenced by the performance of models on class '0'. \n",
    "\n",
    "\n",
    "\n",
    "The importance of the F1 score is different based on the scenario.\n",
    "\n",
    "- Balanced class: In this situation, the F1 score can effectively be ignored, the mis-classification rate is the key.\n",
    "    \n",
    "- Unbalanced class, but both classes are important: If the class distribution is highly skewed (wich is our case), then a classifier can get a low mis-classification rate simply by choosing the majority class. In such a situation, I would choose the classifier that gets high F1 scores on both classes, as well as low mis-classification rate. A classifier that gets low F1-scores should be overlooked: knn and Random Forest classifiers.\n",
    "\n",
    "- Unbalanced class, but one class if more important that the other. In this case, I would pick the classifier that has a good F1 score only on the important class ( class '0')."
   ]
  },
  {
   "cell_type": "markdown",
   "metadata": {},
   "source": [
    "## Upsampling the dataset\n",
    "Let's try the sames models with balanced dataset. For that, I’ll upsample the minority class using the SMOTE algorithm (Synthetic Minority Oversampling Technique). At a high level, SMOTE creates synthetic observations of the minority class by:\n",
    "\n",
    "- Finding the k-nearest-neighbors for minority class observations (finding similar observations)\n",
    "- Randomly choosing one of the k-nearest-neighbors and using it to create a similar, but randomly tweaked, new observation.\n"
   ]
  },
  {
   "cell_type": "code",
   "execution_count": 47,
   "metadata": {},
   "outputs": [
    {
     "name": "stdout",
     "output_type": "stream",
     "text": [
      "Counter({0: 262211, 1: 262211})\n"
     ]
    }
   ],
   "source": [
    "from collections import Counter\n",
    "from imblearn.over_sampling import SMOTE \n",
    "\n",
    "sm = SMOTE(random_state=42)\n",
    "x_train, y_train = sm.fit_sample(x_train, y_train)\n",
    "print(Counter(y_train))"
   ]
  },
  {
   "cell_type": "markdown",
   "metadata": {},
   "source": [
    "Now, reuse the all models"
   ]
  },
  {
   "cell_type": "code",
   "execution_count": 48,
   "metadata": {
    "scrolled": false
   },
   "outputs": [
    {
     "name": "stdout",
     "output_type": "stream",
     "text": [
      "=========================================================\n",
      "Classifier name :  Logistic\n",
      "Test accuracy =  0.526494840856\n",
      "Confusion Matrix\n",
      "**************************\n",
      "--------------------------\n",
      "   pred_0  pred_1\n",
      "0   65957   63148\n",
      "1   12708   18388\n",
      "--------------------------\n",
      "Test classification report\n",
      "**************************\n",
      "             precision    recall  f1-score   support\n",
      "\n",
      "          0       0.84      0.51      0.63    129105\n",
      "          1       0.23      0.59      0.33     31096\n",
      "\n",
      "avg / total       0.72      0.53      0.58    160201\n",
      "\n",
      "=========================================================\n",
      "\n",
      "\n",
      "=========================================================\n",
      "Classifier name :  Naive Bayes\n",
      "Test accuracy =  0.784052534004\n",
      "Confusion Matrix\n",
      "**************************\n",
      "--------------------------\n",
      "   pred_0  pred_1\n",
      "0  123343    5762\n",
      "1   28833    2263\n",
      "--------------------------\n",
      "Test classification report\n",
      "**************************\n",
      "             precision    recall  f1-score   support\n",
      "\n",
      "          0       0.81      0.96      0.88    129105\n",
      "          1       0.28      0.07      0.12     31096\n",
      "\n",
      "avg / total       0.71      0.78      0.73    160201\n",
      "\n",
      "=========================================================\n",
      "\n",
      "\n",
      "=========================================================\n",
      "Classifier name :  SVC\n",
      "Test accuracy =  0.528785712948\n",
      "Confusion Matrix\n",
      "**************************\n",
      "--------------------------\n",
      "   pred_0  pred_1\n",
      "0   66269   62836\n",
      "1   12653   18443\n",
      "--------------------------\n",
      "Test classification report\n",
      "**************************\n",
      "             precision    recall  f1-score   support\n",
      "\n",
      "          0       0.84      0.51      0.64    129105\n",
      "          1       0.23      0.59      0.33     31096\n",
      "\n",
      "avg / total       0.72      0.53      0.58    160201\n",
      "\n",
      "=========================================================\n",
      "\n",
      "\n",
      "=========================================================\n",
      "Classifier name :  Random Forest\n",
      "Test accuracy =  0.651980948933\n",
      "Confusion Matrix\n",
      "**************************\n",
      "--------------------------\n",
      "   pred_0  pred_1\n",
      "0   94196   34909\n",
      "1   20844   10252\n",
      "--------------------------\n",
      "Test classification report\n",
      "**************************\n",
      "             precision    recall  f1-score   support\n",
      "\n",
      "          0       0.82      0.73      0.77    129105\n",
      "          1       0.23      0.33      0.27     31096\n",
      "\n",
      "avg / total       0.70      0.65      0.67    160201\n",
      "\n",
      "=========================================================\n",
      "\n",
      "\n",
      "=========================================================\n",
      "Classifier name :  knn\n",
      "Test accuracy =  0.61540814352\n",
      "Confusion Matrix\n",
      "**************************\n",
      "--------------------------\n",
      "   pred_0  pred_1\n",
      "0   87277   41828\n",
      "1   19784   11312\n",
      "--------------------------\n",
      "Test classification report\n",
      "**************************\n",
      "             precision    recall  f1-score   support\n",
      "\n",
      "          0       0.82      0.68      0.74    129105\n",
      "          1       0.21      0.36      0.27     31096\n",
      "\n",
      "avg / total       0.70      0.62      0.65    160201\n",
      "\n",
      "=========================================================\n",
      "\n",
      "\n",
      "=========================================================\n",
      "Classifier name :  LDA\n",
      "Test accuracy =  0.5518692143\n",
      "Confusion Matrix\n",
      "**************************\n",
      "--------------------------\n",
      "   pred_0  pred_1\n",
      "0   70135   58970\n",
      "1   12821   18275\n",
      "--------------------------\n",
      "Test classification report\n",
      "**************************\n",
      "             precision    recall  f1-score   support\n",
      "\n",
      "          0       0.85      0.54      0.66    129105\n",
      "          1       0.24      0.59      0.34     31096\n",
      "\n",
      "avg / total       0.73      0.55      0.60    160201\n",
      "\n",
      "=========================================================\n",
      "\n",
      "\n",
      "=========================================================\n",
      "Classifier name :  MLPClassifier\n",
      "Test accuracy =  0.194106154144\n",
      "Confusion Matrix\n",
      "**************************\n",
      "--------------------------\n",
      "   pred_0  pred_1\n",
      "0       0  129105\n",
      "1       0   31096\n",
      "--------------------------\n",
      "Test classification report\n",
      "**************************\n",
      "             precision    recall  f1-score   support\n",
      "\n",
      "          0       0.00      0.00      0.00    129105\n",
      "          1       0.19      1.00      0.33     31096\n",
      "\n",
      "avg / total       0.04      0.19      0.06    160201\n",
      "\n",
      "=========================================================\n",
      "\n",
      "\n",
      "=========================================================\n",
      "Classifier name :  AdaBoost\n",
      "Test accuracy =  0.599272164344\n",
      "Confusion Matrix\n",
      "**************************\n",
      "--------------------------\n",
      "   pred_0  pred_1\n",
      "0   80891   48214\n",
      "1   15983   15113\n",
      "--------------------------\n",
      "Test classification report\n",
      "**************************\n",
      "             precision    recall  f1-score   support\n",
      "\n",
      "          0       0.84      0.63      0.72    129105\n",
      "          1       0.24      0.49      0.32     31096\n",
      "\n",
      "avg / total       0.72      0.60      0.64    160201\n",
      "\n",
      "=========================================================\n",
      "\n",
      "\n",
      "=========================================================\n",
      "Classifier name :  QDA\n",
      "Test accuracy =  0.725282613717\n",
      "Confusion Matrix\n",
      "**************************\n",
      "--------------------------\n",
      "   pred_0  pred_1\n",
      "0  109377   19728\n",
      "1   24282    6814\n",
      "--------------------------\n",
      "Test classification report\n",
      "**************************\n",
      "             precision    recall  f1-score   support\n",
      "\n",
      "          0       0.82      0.85      0.83    129105\n",
      "          1       0.26      0.22      0.24     31096\n",
      "\n",
      "avg / total       0.71      0.73      0.72    160201\n",
      "\n",
      "=========================================================\n",
      "\n",
      "\n"
     ]
    }
   ],
   "source": [
    "check_models(x_train, y_train, x_test, y_test)"
   ]
  },
  {
   "cell_type": "markdown",
   "metadata": {},
   "source": [
    "With balanced dataset, test accuracy and confusion matrix for all models change. F1-score shows that both class 1 and 0 are detected. Naive Bayes and QDA give the best test accuracy with acceptable F1-scores. We know tat Naive Bayes is devoted to dataset with non correlated features wich is not the case. So we should retain the result of QDA model. \n",
    "\n",
    "## Robust model\n",
    "\n",
    "In this part, we'll use the original features with balanced dataset and try to perform the two modesl: 'knn' and 'RandomForest'.\n",
    "We use GridSearchCV of siktlearn to tun the hyper-parameters. Let's start with 'knn' model:\n",
    "\n",
    "### knn"
   ]
  },
  {
   "cell_type": "code",
   "execution_count": 49,
   "metadata": {
    "collapsed": true
   },
   "outputs": [],
   "source": [
    "# This module will give us the false positive rate (fpr), the true positive rate (tpr) and the surface of ROC curve (surf)\n",
    "# Some models will use a probability prediction and other the decision function \n",
    "def roc_curve_plot(clf, name, x_test, y_test):\n",
    "\n",
    "    try:\n",
    "        y_score = clf.predict_proba(x_test)[:,1]\n",
    "    except:\n",
    "        try:\n",
    "            y_score = clf.decision_function(x_test)\n",
    "        except:\n",
    "            return\n",
    "    \n",
    "    fpr, tpr, _ = roc_curve( y_test, y_score )\n",
    "    surf = auc(fpr, tpr)\n",
    "        \n",
    "    return fpr, tpr, surf   "
   ]
  },
  {
   "cell_type": "code",
   "execution_count": 50,
   "metadata": {},
   "outputs": [
    {
     "name": "stdout",
     "output_type": "stream",
     "text": [
      "Counter({0: 262211, 1: 63044})\n"
     ]
    }
   ],
   "source": [
    "# Use all non categorial features of original dataset\n",
    "col = ['credit_used', 'limit_allowed', 'credit_score', 'nb_days_account_open', 'interests', 'loyalty', 'age', \n",
    "       'nb_costumers', 'insurance']\n",
    "df2 = df[col]\n",
    "\n",
    "ya = np.array(df2['insurance'])\n",
    "df2 = df2.drop(['insurance'], axis=1)\n",
    "xa = np.array(df2)\n",
    "\n",
    "\n",
    "x_train, x_test, y_train, y_test = train_test_split(xa, ya, test_size=0.33, random_state=42)\n",
    "print(Counter(y_train))"
   ]
  },
  {
   "cell_type": "code",
   "execution_count": 51,
   "metadata": {},
   "outputs": [
    {
     "name": "stdout",
     "output_type": "stream",
     "text": [
      "Counter({0: 262211, 1: 262211})\n"
     ]
    }
   ],
   "source": [
    "# Use SMOTE algorithm to upsample the minority class\n",
    "sm = SMOTE(random_state=42)\n",
    "x_train, y_train = sm.fit_sample(x_train, y_train)\n",
    "print(Counter(y_train))"
   ]
  },
  {
   "cell_type": "code",
   "execution_count": 52,
   "metadata": {
    "collapsed": true
   },
   "outputs": [],
   "source": [
    "# Let's scale the data\n",
    "std_scale = StandardScaler().fit(x_train)\n",
    "\n",
    "x_train_std = std_scale.transform(x_train)\n",
    "x_test_std = std_scale.transform(x_test)"
   ]
  },
  {
   "cell_type": "code",
   "execution_count": 53,
   "metadata": {
    "scrolled": false
   },
   "outputs": [
    {
     "name": "stdout",
     "output_type": "stream",
     "text": [
      "=========================================================\n",
      "Classifier name :  knn\n",
      "Test accuracy =  0.616307014313\n",
      "Confusion Matrix\n",
      "**************************\n",
      "--------------------------\n",
      "   pred_0  pred_1\n",
      "0   86004   43101\n",
      "1   18367   12729\n",
      "--------------------------\n",
      "Test classification report\n",
      "**************************\n",
      "             precision    recall  f1-score   support\n",
      "\n",
      "          0       0.82      0.67      0.74    129105\n",
      "          1       0.23      0.41      0.29     31096\n",
      "\n",
      "avg / total       0.71      0.62      0.65    160201\n",
      "\n",
      "=========================================================\n",
      "\n",
      "\n"
     ]
    }
   ],
   "source": [
    "dico_roc = {} # the dictionary to collect (fpr, tpr, surface) for each model\n",
    "name = 'knn'\n",
    "clf = KNeighborsClassifier(3)\n",
    "# train the model\n",
    "model(clf, name, x_train, y_train, x_test, y_test)\n",
    "# get (fpr, tpr, surface)\n",
    "fpr, tpr, surface = roc_curve_plot(clf, name, x_test, y_test)\n",
    "dico_roc[name] = (fpr, tpr, surface)"
   ]
  },
  {
   "cell_type": "markdown",
   "metadata": {},
   "source": [
    "The result of knn model gives slightly bigher f1-score of class '1'. This is because we take account of all non-categorial features. \n",
    "\n",
    "### Random Forest\n",
    "Next, I need to one-hot encode the categorical features as binary variables to use them in sklearn’s random forest classifier."
   ]
  },
  {
   "cell_type": "code",
   "execution_count": 54,
   "metadata": {},
   "outputs": [
    {
     "name": "stdout",
     "output_type": "stream",
     "text": [
      "Counter({0: 262211, 1: 63044})\n"
     ]
    }
   ],
   "source": [
    "# one-hot encode\n",
    "df3 = pd.get_dummies(df)\n",
    "\n",
    "ya = np.array(df3['insurance'])\n",
    "df3 = df3.drop(['insurance'], axis=1)\n",
    "xa = np.array(df3)\n",
    "\n",
    "# split the data on train set and test set\n",
    "x_train, x_test, y_train, y_test = train_test_split(xa, ya, test_size=0.33, random_state=42)\n",
    "print(Counter(y_train))"
   ]
  },
  {
   "cell_type": "code",
   "execution_count": 55,
   "metadata": {},
   "outputs": [
    {
     "name": "stdout",
     "output_type": "stream",
     "text": [
      "Counter({0: 262211, 1: 262211})\n"
     ]
    }
   ],
   "source": [
    "# upsample the dataset\n",
    "sm = SMOTE(random_state=42)\n",
    "x_train, y_train = sm.fit_sample(x_train, y_train)\n",
    "print(Counter(y_train))"
   ]
  },
  {
   "cell_type": "code",
   "execution_count": 56,
   "metadata": {
    "scrolled": false
   },
   "outputs": [
    {
     "name": "stdout",
     "output_type": "stream",
     "text": [
      "=========================================================\n",
      "Classifier name :  Random Forest\n",
      "Test accuracy =  0.760875400278\n",
      "Confusion Matrix\n",
      "**************************\n",
      "--------------------------\n",
      "   pred_0  pred_1\n",
      "0  114182   14923\n",
      "1   23385    7711\n",
      "--------------------------\n",
      "Test classification report\n",
      "**************************\n",
      "             precision    recall  f1-score   support\n",
      "\n",
      "          0       0.83      0.88      0.86    129105\n",
      "          1       0.34      0.25      0.29     31096\n",
      "\n",
      "avg / total       0.74      0.76      0.75    160201\n",
      "\n",
      "=========================================================\n",
      "\n",
      "\n"
     ]
    }
   ],
   "source": [
    "name = 'Random Forest'\n",
    "clf = RandomForestClassifier(n_estimators=25)\n",
    "model(clf, name, x_train, y_train, x_test, y_test)\n",
    "fpr, tpr, surface = roc_curve_plot(clf, name, x_test, y_test)\n",
    "dico_roc[name] = (fpr, tpr, surface)"
   ]
  },
  {
   "cell_type": "markdown",
   "metadata": {},
   "source": [
    "Taken account of all features, Random Forest gives us better result with higher accuracy, best F1-scores and presicions for both classes. We plot the Roc curves for knn and Random Forest models:"
   ]
  },
  {
   "cell_type": "code",
   "execution_count": 57,
   "metadata": {},
   "outputs": [
    {
     "data": {
      "image/png": "[encoded data removed]",
      "text/plain": [
       "<matplotlib.figure.Figure at 0x241001ffbe0>"
      ]
     },
     "metadata": {},
     "output_type": "display_data"
    }
   ],
   "source": [
    "plt.figure()\n",
    "for name in dico_roc.keys():\n",
    "    label = name + ': surface=  ' + str(dico_roc[name][2])\n",
    "    plt.plot(dico_roc[name][0], dico_roc[name][1], lw=2, label=label )\n",
    "    \n",
    "plt.plot([0, 1], [0, 1], color='navy', lw=2, linestyle='--')\n",
    "plt.xlim([0.0, 1.0])\n",
    "plt.ylim([0.0, 1.0])\n",
    "plt.xlabel(\"False positive rate\")\n",
    "plt.ylabel(\"True positive rate\")\n",
    "plt.title('ROC - curves')\n",
    "plt.legend(loc=\"lower right\")\n",
    "plt.show()"
   ]
  },
  {
   "cell_type": "markdown",
   "metadata": {},
   "source": [
    "## Tuning the hyperparameter of  Random Forest model"
   ]
  },
  {
   "cell_type": "code",
   "execution_count": 59,
   "metadata": {},
   "outputs": [
    {
     "name": "stdout",
     "output_type": "stream",
     "text": [
      "Best hyperparamètres are:\n",
      "{'n_estimators': 100, 'criterion': 'gini', 'max_depth': 7}\n",
      "The result of cross validation :\n",
      "accuracy, mean, std, k_neighbors\n",
      "\taccuracy = 0.662 (+/-0.082) for {'n_estimators': 25, 'criterion': 'gini', 'max_depth': 3}\n",
      "\taccuracy = 0.670 (+/-0.079) for {'n_estimators': 100, 'criterion': 'gini', 'max_depth': 3}\n",
      "\taccuracy = 0.710 (+/-0.111) for {'n_estimators': 25, 'criterion': 'gini', 'max_depth': 5}\n",
      "\taccuracy = 0.712 (+/-0.106) for {'n_estimators': 100, 'criterion': 'gini', 'max_depth': 5}\n",
      "\taccuracy = 0.735 (+/-0.137) for {'n_estimators': 25, 'criterion': 'gini', 'max_depth': 7}\n",
      "\taccuracy = 0.739 (+/-0.140) for {'n_estimators': 100, 'criterion': 'gini', 'max_depth': 7}\n",
      "\taccuracy = 0.676 (+/-0.071) for {'n_estimators': 25, 'criterion': 'entropy', 'max_depth': 3}\n",
      "\taccuracy = 0.674 (+/-0.086) for {'n_estimators': 100, 'criterion': 'entropy', 'max_depth': 3}\n",
      "\taccuracy = 0.700 (+/-0.101) for {'n_estimators': 25, 'criterion': 'entropy', 'max_depth': 5}\n",
      "\taccuracy = 0.717 (+/-0.112) for {'n_estimators': 100, 'criterion': 'entropy', 'max_depth': 5}\n",
      "\taccuracy = 0.730 (+/-0.124) for {'n_estimators': 25, 'criterion': 'entropy', 'max_depth': 7}\n",
      "\taccuracy = 0.738 (+/-0.142) for {'n_estimators': 100, 'criterion': 'entropy', 'max_depth': 7}\n"
     ]
    }
   ],
   "source": [
    "name = 'RF_tuned'\n",
    "\n",
    "# give hyper-parameters to tun\n",
    "param_grid = { \n",
    "    'n_estimators': [25, 100],\n",
    "    'max_depth' : [3,5,7],\n",
    "    'criterion' :['gini', 'entropy']}\n",
    "\n",
    "# give the score to optimize. Here we choose accuracy\n",
    "score = 'accuracy'\n",
    "\n",
    "# Classifier (Here cv= number of folds in cross-validation process)\n",
    "clf = GridSearchCV(RandomForestClassifier(), param_grid, cv=3, scoring=score )\n",
    "\n",
    "clf.fit(x_train, y_train)\n",
    "\n",
    "# Show optimized hyperparamètres\n",
    "print( \"Best hyperparamètres are:\")\n",
    "print( clf.best_params_)\n",
    "\n",
    "# Show the result of cross validation processsus \n",
    "print( \"The result of cross validation :\")\n",
    "print(\"accuracy, mean, std, k_neighbors\")\n",
    "for mean, std, params in zip(clf.cv_results_['mean_test_score'], clf.cv_results_['std_test_score'],\n",
    "                             clf.cv_results_['params'] ):\n",
    "    print( \"\\t%s = %0.3f (+/-%0.03f) for %r\" % (score, mean, std * 2, params ))\n",
    "fpr, tpr, surface = roc_curve_plot(clf, name, x_test, y_test)\n",
    "dico_roc[name] = (fpr, tpr, surface)"
   ]
  },
  {
   "cell_type": "code",
   "execution_count": 60,
   "metadata": {
    "scrolled": true
   },
   "outputs": [
    {
     "data": {
      "image/png": "[encoded data removed]",
      "text/plain": [
       "<matplotlib.figure.Figure at 0x2410022b4a8>"
      ]
     },
     "metadata": {},
     "output_type": "display_data"
    }
   ],
   "source": [
    "# plot the ROC curves\n",
    "plt.figure()\n",
    "for name in dico_roc.keys():\n",
    "    label = name + ': surface=  ' + str(dico_roc[name][2])\n",
    "    plt.plot(dico_roc[name][0], dico_roc[name][1], lw=2, label=label )\n",
    "    \n",
    "plt.plot([0, 1], [0, 1], color='navy', lw=2, linestyle='--')\n",
    "plt.xlim([0.0, 1.0])\n",
    "plt.ylim([0.0, 1.0])\n",
    "plt.xlabel(\"False positive rate\")\n",
    "plt.ylabel(\"True positive rate\")\n",
    "plt.title('ROC - curves')\n",
    "plt.legend(loc=\"lower right\")\n",
    "plt.show()"
   ]
  },
  {
   "cell_type": "markdown",
   "metadata": {},
   "source": [
    "The tuned Random Forest model gives slightly less surface of ROC curve. This is because we limited the max depth of tree to 7. Or, In default case, \"The maximum depth of the tree. If None, then nodes are expanded until all leaves are pure or until all leaves contain less than min_samples_split samples.\" as mentioned in description of Random Forest algorithm on sklearn library."
   ]
  },
  {
   "cell_type": "code",
   "execution_count": 61,
   "metadata": {},
   "outputs": [
    {
     "name": "stdout",
     "output_type": "stream",
     "text": [
      "=========================================================\n",
      "Classifier name :  RF_tuned\n",
      "Test accuracy =  0.71130017915\n",
      "Confusion Matrix\n",
      "**************************\n",
      "--------------------------\n",
      "   pred_0  pred_1\n",
      "0  101976   27129\n",
      "1   19121   11975\n",
      "--------------------------\n",
      "Test classification report\n",
      "**************************\n",
      "             precision    recall  f1-score   support\n",
      "\n",
      "          0       0.84      0.79      0.82    129105\n",
      "          1       0.31      0.39      0.34     31096\n",
      "\n",
      "avg / total       0.74      0.71      0.72    160201\n",
      "\n",
      "=========================================================\n"
     ]
    }
   ],
   "source": [
    "# Here, we'll show the result with max depth equal to7\n",
    "clf = RandomForestClassifier(random_state=42, n_estimators= 100, max_depth=7, criterion='gini')\n",
    "\n",
    "clf.fit(x_train, y_train)\n",
    "\n",
    "print('=========================================================')\n",
    "\n",
    "# test prediction\n",
    "y_pred_test = clf.predict(x_test)    \n",
    "        \n",
    "print(\"Classifier name : \", name)\n",
    "\n",
    "# test accuracy\n",
    "accuracy_test = accuracy_score(y_test, y_pred_test)\n",
    "print(\"Test accuracy = \", accuracy_test)\n",
    "    \n",
    "    \n",
    "print(\"Confusion Matrix\")\n",
    "print('**************************')\n",
    "print('--------------------------')\n",
    "print(pd.DataFrame(confusion_matrix(y_test, y_pred_test), columns=['pred_0', 'pred_1'], index=['0', '1']))\n",
    "print('--------------------------')\n",
    "    \n",
    "    \n",
    "print(\"Test classification report\")\n",
    "print('**************************')\n",
    "print(classification_report(y_test, y_pred_test))\n",
    "    \n",
    "print('=========================================================')"
   ]
  }
 ],
 "metadata": {
  "kernelspec": {
   "display_name": "Python 3",
   "language": "python",
   "name": "python3"
  },
  "language_info": {
   "codemirror_mode": {
    "name": "ipython",
    "version": 3
   },
   "file_extension": ".py",
   "mimetype": "text/x-python",
   "name": "python",
   "nbconvert_exporter": "python",
   "pygments_lexer": "ipython3",
   "version": "3.7.4"
  }
 },
 "nbformat": 4,
 "nbformat_minor": 2
}
